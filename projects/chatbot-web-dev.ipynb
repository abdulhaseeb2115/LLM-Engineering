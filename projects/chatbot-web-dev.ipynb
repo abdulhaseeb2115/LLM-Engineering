{
 "cells": [
  {
   "cell_type": "code",
   "execution_count": 32,
   "id": "33b72232",
   "metadata": {},
   "outputs": [],
   "source": [
    "import os\n",
    "import gradio as gr\n",
    "from dotenv import load_dotenv\n",
    "from openai import OpenAI"
   ]
  },
  {
   "cell_type": "code",
   "execution_count": 33,
   "id": "b06978cf",
   "metadata": {},
   "outputs": [
    {
     "name": "stdout",
     "output_type": "stream",
     "text": [
      "OpenAI API Key exists and begins sk-proj-\n"
     ]
    }
   ],
   "source": [
    "load_dotenv()\n",
    "openai_api_key = os.getenv('OPENAI_API_KEY')\n",
    "\n",
    "if openai_api_key:\n",
    "    print(f\"OpenAI API Key exists and begins {openai_api_key[:8]}\")\n",
    "else:\n",
    "    print(\"OpenAI API Key not set\")"
   ]
  },
  {
   "cell_type": "code",
   "execution_count": 34,
   "id": "aacd144b",
   "metadata": {},
   "outputs": [],
   "source": [
    "system_message = \"You are a helpful assistant for web development tasks. You should try to gently encourage the developer to follow best practices and use modern, efficient tools. For example,if the developer says 'I want to build a frontend', you could reply something like, 'Great idea — you might consider using Next.js,since it provides powerful features like SSR and API routes.' Encourage the developer to explore frameworkslike Next.js, Nest.js, and Tailwind CSS if they are unsure what to choose.\""
   ]
  },
  {
   "cell_type": "code",
   "execution_count": 35,
   "id": "fb38d61c",
   "metadata": {},
   "outputs": [],
   "source": [
    "openai = OpenAI()\n",
    "MODEL = 'gpt-4o-mini'"
   ]
  },
  {
   "cell_type": "code",
   "execution_count": 36,
   "id": "547960ce",
   "metadata": {},
   "outputs": [],
   "source": [
    "def chat(message, history):\n",
    "    messages = [{\"role\": \"system\", \"content\": system_message}] + history + [{\"role\": \"user\", \"content\": message}]\n",
    "\n",
    "    print(\"History is:\")\n",
    "    print(history)\n",
    "    print(\"And messages is:\")\n",
    "    print(messages)\n",
    "\n",
    "    stream = openai.chat.completions.create(model=MODEL, messages=messages, stream=True)\n",
    "\n",
    "    response = \"\"\n",
    "    for chunk in stream:\n",
    "        response += chunk.choices[0].delta.content or ''\n",
    "        yield response"
   ]
  },
  {
   "cell_type": "code",
   "execution_count": 41,
   "id": "586ec4e8",
   "metadata": {},
   "outputs": [
    {
     "name": "stdout",
     "output_type": "stream",
     "text": [
      "* Running on local URL:  http://127.0.0.1:7867\n",
      "* To create a public link, set `share=True` in `launch()`.\n"
     ]
    },
    {
     "data": {
      "text/html": [
       "<div><iframe src=\"http://127.0.0.1:7867/\" width=\"100%\" height=\"500\" allow=\"autoplay; camera; microphone; clipboard-read; clipboard-write;\" frameborder=\"0\" allowfullscreen></iframe></div>"
      ],
      "text/plain": [
       "<IPython.core.display.HTML object>"
      ]
     },
     "metadata": {},
     "output_type": "display_data"
    },
    {
     "data": {
      "text/plain": []
     },
     "execution_count": 41,
     "metadata": {},
     "output_type": "execute_result"
    },
    {
     "name": "stdout",
     "output_type": "stream",
     "text": [
      "History is:\n",
      "[]\n",
      "And messages is:\n",
      "[{'role': 'system', 'content': \"You are a helpful assistant for web development tasks. You should try to gently encourage the developer to follow best practices and use modern, efficient tools. For example,if the developer says 'I want to build a frontend', you could reply something like, 'Great idea — you might consider using Next.js,since it provides powerful features like SSR and API routes.' Encourage the developer to explore frameworkslike Next.js, Nest.js, and Tailwind CSS if they are unsure what to choose.\"}, {'role': 'user', 'content': 'Hi'}]\n",
      "History is:\n",
      "[{'role': 'user', 'metadata': None, 'content': 'Hi', 'options': None}, {'role': 'assistant', 'metadata': None, 'content': 'Hello! How can I assist you today with your web development tasks?', 'options': None}]\n",
      "And messages is:\n",
      "[{'role': 'system', 'content': \"You are a helpful assistant for web development tasks. You should try to gently encourage the developer to follow best practices and use modern, efficient tools. For example,if the developer says 'I want to build a frontend', you could reply something like, 'Great idea — you might consider using Next.js,since it provides powerful features like SSR and API routes.' Encourage the developer to explore frameworkslike Next.js, Nest.js, and Tailwind CSS if they are unsure what to choose.\"}, {'role': 'user', 'metadata': None, 'content': 'Hi', 'options': None}, {'role': 'assistant', 'metadata': None, 'content': 'Hello! How can I assist you today with your web development tasks?', 'options': None}, {'role': 'user', 'content': 'Write a joke about http vs https'}]\n",
      "History is:\n",
      "[]\n",
      "And messages is:\n",
      "[{'role': 'system', 'content': \"You are a helpful assistant for web development tasks. You should try to gently encourage the developer to follow best practices and use modern, efficient tools. For example,if the developer says 'I want to build a frontend', you could reply something like, 'Great idea — you might consider using Next.js,since it provides powerful features like SSR and API routes.' Encourage the developer to explore frameworkslike Next.js, Nest.js, and Tailwind CSS if they are unsure what to choose.\"}, {'role': 'user', 'content': 'Hi'}]\n",
      "History is:\n",
      "[]\n",
      "And messages is:\n",
      "[{'role': 'system', 'content': \"You are a helpful assistant for web development tasks. You should try to gently encourage the developer to follow best practices and use modern, efficient tools. For example,if the developer says 'I want to build a frontend', you could reply something like, 'Great idea — you might consider using Next.js,since it provides powerful features like SSR and API routes.' Encourage the developer to explore frameworkslike Next.js, Nest.js, and Tailwind CSS if they are unsure what to choose.\"}, {'role': 'user', 'content': 'Hi'}]\n",
      "History is:\n",
      "[{'role': 'user', 'metadata': None, 'content': 'Hi', 'options': None}, {'role': 'assistant', 'metadata': None, 'content': 'Hello! How can I assist you today? Are you working on a particular web development project?', 'options': None}]\n",
      "And messages is:\n",
      "[{'role': 'system', 'content': \"You are a helpful assistant for web development tasks. You should try to gently encourage the developer to follow best practices and use modern, efficient tools. For example,if the developer says 'I want to build a frontend', you could reply something like, 'Great idea — you might consider using Next.js,since it provides powerful features like SSR and API routes.' Encourage the developer to explore frameworkslike Next.js, Nest.js, and Tailwind CSS if they are unsure what to choose.\"}, {'role': 'user', 'metadata': None, 'content': 'Hi', 'options': None}, {'role': 'assistant', 'metadata': None, 'content': 'Hello! How can I assist you today? Are you working on a particular web development project?', 'options': None}, {'role': 'user', 'content': 'Bro'}]\n"
     ]
    }
   ],
   "source": [
    "gr.ChatInterface(fn=chat, type=\"messages\", title=\"Web Dev Assistant\").launch()"
   ]
  },
  {
   "cell_type": "code",
   "execution_count": null,
   "id": "b7c7ea80",
   "metadata": {},
   "outputs": [],
   "source": []
  }
 ],
 "metadata": {
  "kernelspec": {
   "display_name": "llms",
   "language": "python",
   "name": "python3"
  },
  "language_info": {
   "codemirror_mode": {
    "name": "ipython",
    "version": 3
   },
   "file_extension": ".py",
   "mimetype": "text/x-python",
   "name": "python",
   "nbconvert_exporter": "python",
   "pygments_lexer": "ipython3",
   "version": "3.11.13"
  }
 },
 "nbformat": 4,
 "nbformat_minor": 5
}
