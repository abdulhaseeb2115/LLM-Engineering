{
 "cells": [
  {
   "cell_type": "markdown",
   "id": "9dcf8e9c",
   "metadata": {},
   "source": [
    "WEBSITE SUMMARY BY SCRAPING\n"
   ]
  },
  {
   "cell_type": "code",
   "execution_count": null,
   "id": "9e041f30",
   "metadata": {},
   "outputs": [],
   "source": [
    "import nest_asyncio\n",
    "\n",
    "nest_asyncio.apply()"
   ]
  },
  {
   "cell_type": "code",
   "execution_count": null,
   "id": "44381931",
   "metadata": {},
   "outputs": [],
   "source": [
    "import os\n",
    "import time\n",
    "import ollama\n",
    "import asyncio\n",
    "from openai import OpenAI\n",
    "from bs4 import BeautifulSoup\n",
    "from dotenv import load_dotenv\n",
    "from IPython.display import Markdown, display\n",
    "from playwright.async_api import async_playwright"
   ]
  },
  {
   "cell_type": "code",
   "execution_count": null,
   "id": "2bc7a70f",
   "metadata": {},
   "outputs": [],
   "source": [
    "load_dotenv()\n",
    "\n",
    "_raw_openai_key = os.getenv(\"OPENAI_API_KEY\")\n",
    "OPENAI_API_KEY = None\n",
    "if _raw_openai_key:\n",
    "    # Remove all whitespace characters anywhere in the key (spaces, tabs, newlines)\n",
    "    sanitized_key = \"\".join(_raw_openai_key.split())\n",
    "    if sanitized_key != _raw_openai_key:\n",
    "        print(\"Sanitized OPENAI_API_KEY by removing whitespace.\")\n",
    "    OPENAI_API_KEY = sanitized_key\n",
    "    # Ensure downstream libraries that read from env get the sanitized key\n",
    "    os.environ[\"OPENAI_API_KEY\"] = OPENAI_API_KEY\n",
    "    print(\"OPENAI_API_KEY found!\")\n",
    "else:\n",
    "    print(\n",
    "        \"OPENAI_API_KEY is not set. The app will start, but calls that require OpenAI will fail until it is configured.\"\n",
    "    )"
   ]
  },
  {
   "cell_type": "code",
   "execution_count": null,
   "id": "83914805",
   "metadata": {},
   "outputs": [],
   "source": [
    "def time_now():\n",
    "    return time.strftime(\"%Y-%m-%d %H:%M:%S\")"
   ]
  },
  {
   "cell_type": "code",
   "execution_count": null,
   "id": "50606fac",
   "metadata": {},
   "outputs": [],
   "source": [
    "class Website:\n",
    "    url: str\n",
    "    title: str\n",
    "    text: str\n",
    "\n",
    "    def __init__(self, url: str):\n",
    "        self.url = url\n",
    "        self.title = None\n",
    "        self.text = None\n",
    "\n",
    "    async def scrape(self):\n",
    "        print(time_now() + \" Scraping Started...\")\n",
    "        async with async_playwright() as p:\n",
    "            browser = await p.chromium.launch()\n",
    "            page = await browser.new_page()\n",
    "            await page.goto(self.url)\n",
    "            content = await page.content()\n",
    "            await browser.close()\n",
    "\n",
    "        soup = BeautifulSoup(content, \"html.parser\")\n",
    "        self.title = soup.title.string if soup.title else \"No Title Found\"\n",
    "        for irrelevant in soup.body([\"script\", \"style\", \"img\", \"input\"]):\n",
    "            irrelevant.decompose()\n",
    "        self.text = soup.body.get_text(separator=\"\\n\", strip=True)\n",
    "        print(time_now() + \" Scraping Completed\")"
   ]
  },
  {
   "cell_type": "code",
   "execution_count": null,
   "id": "694d430a",
   "metadata": {},
   "outputs": [],
   "source": [
    "system_prompt = \"You are an assistant that analyzes the contents of a website \\\n",
    "and provides a short summary, ignoring text that might be navigation related. \\\n",
    "Respond in markdown.\"\n",
    "\n",
    "\n",
    "def user_prompt_for(website: Website):\n",
    "    user_prompt = f\"You are looking at a website titled '{website.title}' \"\n",
    "    user_prompt += \"\\nThe contents of this website is as follows; \\\n",
    "    please provide a short summary of this website in markdown. \\\n",
    "    If it includes news or announcements, then summarize these too.\\n\\n\"\n",
    "    user_prompt += website.text\n",
    "    return user_prompt"
   ]
  },
  {
   "cell_type": "code",
   "execution_count": null,
   "id": "210d324f",
   "metadata": {},
   "outputs": [],
   "source": [
    "def messages_for(website: Website):\n",
    "    return [\n",
    "        {\"role\": \"system\", \"content\": system_prompt},\n",
    "        {\"role\": \"user\", \"content\": user_prompt_for(website)},\n",
    "    ]"
   ]
  },
  {
   "cell_type": "code",
   "execution_count": null,
   "id": "2883697f",
   "metadata": {},
   "outputs": [],
   "source": [
    "openai = OpenAI()\n",
    "\n",
    "\n",
    "def summarize_website(url: str):\n",
    "    website = Website(url)\n",
    "    asyncio.run(website.scrape())\n",
    "\n",
    "    print(time_now() + \" Summary requested...\")\n",
    "\n",
    "    # # OpenAI\n",
    "    # response = openai.chat.completions.create(\n",
    "    #     model=\"gpt-4o-mini\", messages=messages_for(website)\n",
    "    # )\n",
    "    # print(time_now() + \" Summary received\")\n",
    "    # return response.choices[0].message.content\n",
    "\n",
    "    # Ollama\n",
    "    response = ollama.chat(\n",
    "        model=\"gemma3:1b\",\n",
    "        messages=messages_for(website)\n",
    "    )\n",
    "    print(time_now() + \" Summary received\")\n",
    "    return response[\"message\"][\"content\"]"
   ]
  },
  {
   "cell_type": "code",
   "execution_count": null,
   "id": "0bce582e",
   "metadata": {},
   "outputs": [],
   "source": [
    "def display_website_summary(url: str):\n",
    "    summary = summarize_website(url)\n",
    "    print(time_now() + \" Process Completed\\n\\n\")\n",
    "    display(Markdown(summary))"
   ]
  },
  {
   "cell_type": "code",
   "execution_count": null,
   "id": "a81da6b1",
   "metadata": {},
   "outputs": [],
   "source": [
    "display_website_summary(\"https://abhaseeb.com\")"
   ]
  },
  {
   "cell_type": "code",
   "execution_count": null,
   "id": "8aab7900",
   "metadata": {},
   "outputs": [],
   "source": []
  }
 ],
 "metadata": {
  "kernelspec": {
   "display_name": "llms",
   "language": "python",
   "name": "python3"
  },
  "language_info": {
   "codemirror_mode": {
    "name": "ipython",
    "version": 3
   },
   "file_extension": ".py",
   "mimetype": "text/x-python",
   "name": "python",
   "nbconvert_exporter": "python",
   "pygments_lexer": "ipython3",
   "version": "3.11.13"
  }
 },
 "nbformat": 4,
 "nbformat_minor": 5
}
