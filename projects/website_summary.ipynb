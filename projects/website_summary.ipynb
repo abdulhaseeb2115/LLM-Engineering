{
 "cells": [
  {
   "cell_type": "markdown",
   "id": "9dcf8e9c",
   "metadata": {},
   "source": [
    "WEBSITE SUMMARY BY SCRAPING"
   ]
  },
  {
   "cell_type": "code",
   "execution_count": null,
   "id": "44381931",
   "metadata": {},
   "outputs": [],
   "source": [
    "import os\n",
    "import asyncio\n",
    "from openai import OpenAI\n",
    "from bs4 import BeautifulSoup\n",
    "from dotenv import load_dotenv\n",
    "from IPython.display import Markdown, display\n",
    "from playwright.async_api import async_playwright"
   ]
  },
  {
   "cell_type": "code",
   "execution_count": null,
   "id": "2bc7a70f",
   "metadata": {},
   "outputs": [],
   "source": [
    "load_dotenv()\n",
    "\n",
    "_raw_openai_key = os.getenv(\"OPENAI_API_KEY\")\n",
    "OPENAI_API_KEY = None\n",
    "if _raw_openai_key:\n",
    "    # Remove all whitespace characters anywhere in the key (spaces, tabs, newlines)\n",
    "    sanitized_key = \"\".join(_raw_openai_key.split())\n",
    "    if sanitized_key != _raw_openai_key:\n",
    "        print(\"Sanitized OPENAI_API_KEY by removing whitespace.\")\n",
    "    OPENAI_API_KEY = sanitized_key\n",
    "    # Ensure downstream libraries that read from env get the sanitized key\n",
    "    os.environ[\"OPENAI_API_KEY\"] = OPENAI_API_KEY\n",
    "    print(\"OPENAI_API_KEY found!\")\n",
    "else:\n",
    "    print(\n",
    "        \"OPENAI_API_KEY is not set. The app will start, but calls that require OpenAI will fail until it is configured.\"\n",
    "    )"
   ]
  },
  {
   "cell_type": "code",
   "execution_count": null,
   "id": "8d44f7ef",
   "metadata": {},
   "outputs": [],
   "source": [
    "openai = OpenAI()\n",
    "openai"
   ]
  },
  {
   "cell_type": "code",
   "execution_count": null,
   "id": "50606fac",
   "metadata": {},
   "outputs": [],
   "source": [
    "class Website:\n",
    "    url: str\n",
    "    title: str\n",
    "    text: str\n",
    "\n",
    "    def __init__(self, url: str):\n",
    "        self.url = url\n",
    "        self.title = None\n",
    "        self.text = None\n",
    "\n",
    "    async def scrape(self):\n",
    "        async with async_playwright() as p:\n",
    "            browser = await p.chromium.launch()\n",
    "            page = await browser.new_page()\n",
    "            await page.goto(self.url)\n",
    "            content = await page.content()\n",
    "            await browser.close()\n",
    "\n",
    "        soup = BeautifulSoup(content, \"html.parser\")\n",
    "        self.title = soup.title.string if soup.title else \"No Title Found\"\n",
    "        for irrelevant in soup.body(['script', 'style', 'img', 'input']):\n",
    "            irrelevant.decompose()\n",
    "        self.text = soup.body.get_text(separator=\"\\n\", strip=True)\n",
    "\n"
   ]
  },
  {
   "cell_type": "code",
   "execution_count": null,
   "id": "694d430a",
   "metadata": {},
   "outputs": [],
   "source": [
    "system_prompt = \"You are an assistant that analyzes the contents of a website \\\n",
    "and provides a short summary, ignoring text that might be navigation related. \\\n",
    "Respond in markdown.\"\n",
    "\n",
    "def user_prompt_for(website: Website):\n",
    "    user_prompt = f\"You are looking at a website titled '{website.title}' \"\n",
    "    user_prompt += \"\\nThe contents of this website is as follows; \\\n",
    "    please provide a short summary of this website in markdown. \\\n",
    "    If it includes news or announcements, then summarize these too.\\n\\n\"\n",
    "    user_prompt += website.text\n",
    "    return user_prompt"
   ]
  },
  {
   "cell_type": "code",
   "execution_count": null,
   "id": "210d324f",
   "metadata": {},
   "outputs": [],
   "source": [
    "def messages_for(website: Website):\n",
    "    return [\n",
    "        {\"role\": \"system\", \"content\": system_prompt},\n",
    "        {\"role\": \"user\", \"content\": user_prompt_for(website)},\n",
    "    ]"
   ]
  },
  {
   "cell_type": "code",
   "execution_count": 109,
   "id": "2883697f",
   "metadata": {},
   "outputs": [],
   "source": [
    "def summarize_website(url: str):\n",
    "    website = Website(url)\n",
    "    asyncio.run(website.scrape())\n",
    "    \n",
    "    response = openai.chat.completions.create(\n",
    "        model=\"gpt-4o-mini\",\n",
    "        messages=messages_for(website)\n",
    "    )\n",
    "    return response.choices[0].message.content"
   ]
  },
  {
   "cell_type": "code",
   "execution_count": 111,
   "id": "0bce582e",
   "metadata": {},
   "outputs": [],
   "source": [
    "def display_website_summary(url: str):\n",
    "    summary=summarize_website(url)\n",
    "    display(Markdown(summary))"
   ]
  },
  {
   "cell_type": "code",
   "execution_count": 112,
   "id": "a81da6b1",
   "metadata": {},
   "outputs": [
    {
     "data": {
      "text/markdown": [
       "# Portfolio Summary\n",
       "\n",
       "**Name:** Abdul Haseeb  \n",
       "**Title:** Full-stack Developer / Software Engineer  \n",
       "**Age:** 21  \n",
       "**Location:** Islamabad, Pakistan\n",
       "\n",
       "## Services Offered\n",
       "- **Web Development:** Custom websites and web applications using HTML, CSS, JavaScript, React, Node.js, and various databases (Firebase, MongoDB, MySQL).\n",
       "- **API Development:** Creation of RESTful APIs with technologies such as Node.js, Express, and MongoDB, including user authentication and third-party service integration.\n",
       "- **Mobile App Development:** Development of mobile applications using React Native and related technology stacks (EXPO, Tailwind, Axios).\n",
       "\n",
       "## Education\n",
       "- **Bachelor of Science in Software Engineering (BSSE)**  \n",
       "  Comsats University Islamabad (2019 - 2023)\n",
       "  \n",
       "- **Intermediate of Computer Science (ICS)**  \n",
       "  Punjab Group of Colleges (2017 - 2019)\n",
       "  \n",
       "- **Matriculation**  \n",
       "  Usman Science School (2015 - 2017)\n",
       "\n",
       "## Experience\n",
       "- **MERN Stack Developer** at NESL-IT (Aug 2023 - Present)\n",
       "- **Freelance Full-stack Developer** on Fiverr (Sep 2022 - Present)\n",
       "\n",
       "## Projects\n",
       "1. **KidverCity Website:** Educational Institute website.\n",
       "2. **AirSpace:** IOT-based parking system (Final Year Project).\n",
       "3. **KidverCity Admin Portal:** Administration portal for an Educational Institute.\n",
       "4. **Pocketclass:** Online teaching platform with various functionalities.\n",
       "5. **Jones Transportation:** Expense tracking application for transport services.\n",
       "6. **Crypto Blog:** Blog website with post interactions (likes, comments).\n",
       "7. **Vig Sports:** Static website for sports/crypto blogs and software updates.\n",
       "8. **University Management System:** Complete management system for tracking educational records.\n",
       "9. **Punctual:** Attendance management system for schools.\n",
       "10. **Profile App:** Display system for user portfolios and projects.\n",
       "11. **Ecommerce App:** Online store with purchasing, rating, and commenting features.\n",
       "\n",
       "## Contact Information\n",
       "- **Email:** abdulhaseeb2115@gmail.com  \n",
       "- **Phone/Whatsapp:** +923496384386  \n",
       "- **Location:** Islamabad, Pakistan\n",
       "\n",
       "Abdul Haseeb is currently available for work and actively seeking opportunities in full-stack development."
      ],
      "text/plain": [
       "<IPython.core.display.Markdown object>"
      ]
     },
     "metadata": {},
     "output_type": "display_data"
    }
   ],
   "source": [
    "display_website_summary(\"https://abhaseeb.com\")"
   ]
  },
  {
   "cell_type": "code",
   "execution_count": null,
   "id": "7ff9709b",
   "metadata": {},
   "outputs": [],
   "source": []
  }
 ],
 "metadata": {
  "kernelspec": {
   "display_name": "llms",
   "language": "python",
   "name": "python3"
  },
  "language_info": {
   "codemirror_mode": {
    "name": "ipython",
    "version": 3
   },
   "file_extension": ".py",
   "mimetype": "text/x-python",
   "name": "python",
   "nbconvert_exporter": "python",
   "pygments_lexer": "ipython3",
   "version": "3.11.13"
  }
 },
 "nbformat": 4,
 "nbformat_minor": 5
}
