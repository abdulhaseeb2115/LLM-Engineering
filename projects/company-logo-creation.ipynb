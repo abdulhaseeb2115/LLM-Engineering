{
 "cells": [
  {
   "cell_type": "code",
   "execution_count": null,
   "id": "f759a67a",
   "metadata": {},
   "outputs": [],
   "source": [
    "import os\n",
    "import base64\n",
    "import google\n",
    "from PIL import Image\n",
    "from io import BytesIO\n",
    "from openai import OpenAI\n",
    "from dotenv import load_dotenv"
   ]
  },
  {
   "cell_type": "code",
   "execution_count": null,
   "id": "cb6dca15",
   "metadata": {},
   "outputs": [],
   "source": [
    "# ENVs\n",
    "load_dotenv(override=True)\n",
    "openai_api_key = os.getenv('OPENAI_API_KEY')\n",
    "anthropic_api_key = os.getenv('ANTHROPIC_API_KEY')\n",
    "google_api_key = os.getenv('GOOGLE_API_KEY')\n",
    "\n",
    "if openai_api_key:\n",
    "    print(f\"OpenAI API Key exists and begins {openai_api_key[:8]}\")\n",
    "else:\n",
    "    print(\"OpenAI API Key not set\")\n",
    "    \n",
    "if anthropic_api_key:\n",
    "    print(f\"Anthropic API Key exists and begins {anthropic_api_key[:7]}\")\n",
    "else:\n",
    "    print(\"Anthropic API Key not set\")\n",
    "\n",
    "if google_api_key:\n",
    "    print(f\"Google API Key exists and begins {google_api_key[:8]}\")\n",
    "else:\n",
    "    print(\"Google API Key not set\")"
   ]
  },
  {
   "cell_type": "code",
   "execution_count": null,
   "id": "72ae5ee5",
   "metadata": {},
   "outputs": [],
   "source": [
    "openai = OpenAI()"
   ]
  },
  {
   "cell_type": "code",
   "execution_count": 62,
   "id": "8fdba5b9",
   "metadata": {},
   "outputs": [],
   "source": [
    "def generate_logo_with_opeanai(name: str, description: str):\n",
    "    image_response = openai.images.generate(\n",
    "            model=\"dall-e-3\",\n",
    "            prompt=f\"A simple logo image for company '{name}' according to these details: '{description}'\",\n",
    "            size=\"1024x1024\",\n",
    "            n=1,\n",
    "            response_format=\"b64_json\",\n",
    "        )\n",
    "    image_base64 = image_response.data[0].b64_json\n",
    "    image_data = base64.b64decode(image_base64)\n",
    "    return Image.open(BytesIO(image_data))"
   ]
  },
  {
   "cell_type": "code",
   "execution_count": null,
   "id": "ba868692",
   "metadata": {},
   "outputs": [],
   "source": [
    "def generate_logo_with_gemini(name: str, description: str):\n",
    "    gemini_model = google.generativeai.GenerativeModel(\n",
    "        model_name=\"gemini-2.5-flash-image-preview\",\n",
    "    )\n",
    "    response = gemini_model.generate_content(\n",
    "        f\"A simple logo image for company '{name}' according to these details: '{description}'\"\n",
    "    )\n",
    "    img_data = None\n",
    "    for part in response.candidates[0].content.parts:\n",
    "        if hasattr(part, \"inline_data\") and part.inline_data:\n",
    "            img_data = part.inline_data.data\n",
    "            break\n",
    "\n",
    "    if not img_data:\n",
    "        raise RuntimeError(\"No image returned from Gemini\")\n",
    "    return Image.open(BytesIO(img_data))"
   ]
  },
  {
   "cell_type": "code",
   "execution_count": null,
   "id": "4094047f",
   "metadata": {},
   "outputs": [],
   "source": [
    "company_name= \"ABH\"\n",
    "company_description= \"ABH is a software services company. We provide web solutions and mobile along with new AI solutions.\"\n",
    "logo = generate_logo_with_opeanai(company_name, company_description)\n",
    "display(logo)"
   ]
  }
 ],
 "metadata": {
  "kernelspec": {
   "display_name": "llms",
   "language": "python",
   "name": "python3"
  },
  "language_info": {
   "codemirror_mode": {
    "name": "ipython",
    "version": 3
   },
   "file_extension": ".py",
   "mimetype": "text/x-python",
   "name": "python",
   "nbconvert_exporter": "python",
   "pygments_lexer": "ipython3",
   "version": "3.11.13"
  }
 },
 "nbformat": 4,
 "nbformat_minor": 5
}
