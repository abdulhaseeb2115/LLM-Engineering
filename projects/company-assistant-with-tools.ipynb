{
 "cells": [
  {
   "cell_type": "code",
   "execution_count": null,
   "id": "0f6d5ecb",
   "metadata": {},
   "outputs": [],
   "source": [
    "import os\n",
    "import json\n",
    "import gradio as gr\n",
    "from dotenv import load_dotenv\n",
    "from openai import OpenAI"
   ]
  },
  {
   "cell_type": "code",
   "execution_count": null,
   "id": "cbdfb963",
   "metadata": {},
   "outputs": [],
   "source": [
    "load_dotenv()\n",
    "openai_api_key = os.getenv('OPENAI_API_KEY')\n",
    "\n",
    "if openai_api_key:\n",
    "    print(f\"OpenAI API Key exists and begins {openai_api_key[:8]}\")\n",
    "else:\n",
    "    print(\"OpenAI API Key not set\")"
   ]
  },
  {
   "cell_type": "code",
   "execution_count": null,
   "id": "75e3046d",
   "metadata": {},
   "outputs": [],
   "source": [
    "openai = OpenAI()\n",
    "MODEL = 'gpt-4o-mini'"
   ]
  },
  {
   "cell_type": "code",
   "execution_count": null,
   "id": "92725352",
   "metadata": {},
   "outputs": [],
   "source": [
    "system_message = \"You are a helpful assistant for a Web Development Company called Abh-devs. \"\n",
    "system_message += \"Give short, courteous answers, no more than 1 sentence. \"\n",
    "system_message += \"Always be accurate. If you don't know the answer, say so.\""
   ]
  },
  {
   "cell_type": "code",
   "execution_count": null,
   "id": "4bac01b6",
   "metadata": {},
   "outputs": [],
   "source": [
    "# Employees list\n",
    "employees = {\n",
    "    \"Alice Johnson\": \"CEO\",\n",
    "    \"Bob Smith\": \"CTO\",\n",
    "    \"Clara Martinez\": \"Frontend Developer\",\n",
    "    \"David Lee\": \"Backend Developer\",\n",
    "    \"Eva Brown\": \"Fullstack Developer\",\n",
    "    \"Frank Wilson\": \"UI/UX Designer\",\n",
    "    \"Grace Kim\": \"Project Manager\",\n",
    "    \"Henry Clark\": \"QA Engineer\",\n",
    "    \"Isabella Davis\": \"DevOps Engineer\",\n",
    "}"
   ]
  },
  {
   "cell_type": "code",
   "execution_count": null,
   "id": "e3d7661b",
   "metadata": {},
   "outputs": [],
   "source": [
    "# Tool: Get all employees\n",
    "def get_all_employees():\n",
    "    print(\"Tool get_all_employees called\")\n",
    "    return [{\"name\": name, \"role\": role} for name, role in employees.items()]\n",
    "\n",
    "all_employees_function = {\n",
    "    \"name\": \"get_all_employees\",\n",
    "    \"description\": \"Get the list of all employees and their roles.\",\n",
    "    \"parameters\": {\n",
    "        \"type\": \"object\",\n",
    "        \"properties\": {},\n",
    "        \"additionalProperties\": False\n",
    "    }\n",
    "}"
   ]
  },
  {
   "cell_type": "code",
   "execution_count": null,
   "id": "9f01ff9e",
   "metadata": {},
   "outputs": [],
   "source": [
    "# Tool: Get role by employee name\n",
    "def get_employee_role(employee_name):\n",
    "    print(f\"Tool get_employee_role called for {employee_name}\")\n",
    "    return employees.get(employee_name, \"Unknown employee\")\n",
    "\n",
    "employee_role_function = {\n",
    "    \"name\": \"get_employee_role\",\n",
    "    \"description\": \"Get the role of an employee by their name.\",\n",
    "    \"parameters\": {\n",
    "        \"type\": \"object\",\n",
    "        \"properties\": {\n",
    "            \"employee_name\": {\n",
    "                \"type\": \"string\",\n",
    "                \"description\": \"The full name of the employee.\"\n",
    "            },\n",
    "        },\n",
    "        \"required\": [\"employee_name\"],\n",
    "        \"additionalProperties\": False\n",
    "    }\n",
    "}"
   ]
  },
  {
   "cell_type": "code",
   "execution_count": null,
   "id": "3715ccda",
   "metadata": {},
   "outputs": [],
   "source": [
    "# Register Tools\n",
    "tools = [\n",
    "    {\"type\": \"function\", \"function\": all_employees_function},\n",
    "    {\"type\": \"function\", \"function\": employee_role_function},\n",
    "]"
   ]
  },
  {
   "cell_type": "code",
   "execution_count": null,
   "id": "98f83660",
   "metadata": {},
   "outputs": [],
   "source": [
    "# Handle Tool Calls\n",
    "def handle_tool_call(message):\n",
    "    tool_call = message.tool_calls[0]\n",
    "    arguments = json.loads(tool_call.function.arguments)\n",
    "\n",
    "    if tool_call.function.name == \"get_all_employees\":\n",
    "        result = get_all_employees()\n",
    "        response = {\"role\": \"tool\", \"content\": json.dumps(result), \"tool_call_id\": tool_call.id}\n",
    "        return response, None\n",
    "\n",
    "    elif tool_call.function.name == \"get_employee_role\":\n",
    "        employee_name = arguments.get(\"employee_name\")\n",
    "        role = get_employee_role(employee_name)\n",
    "        response = {\"role\": \"tool\", \"content\": json.dumps({\"employee_name\": employee_name, \"role\": role}), \"tool_call_id\": tool_call.id}\n",
    "        return response, employee_name"
   ]
  },
  {
   "cell_type": "code",
   "execution_count": null,
   "id": "da411f1d",
   "metadata": {},
   "outputs": [],
   "source": [
    "# Chat Function\n",
    "def chat(message, history):\n",
    "    messages = [{\"role\": \"system\", \"content\": system_message}] + history + [{\"role\": \"user\", \"content\": message}]\n",
    "    response = openai.chat.completions.create(model=MODEL, messages=messages, tools=tools)\n",
    "\n",
    "    if response.choices[0].finish_reason == \"tool_calls\":\n",
    "        message = response.choices[0].message\n",
    "        response, _ = handle_tool_call(message)\n",
    "        messages.append(message)\n",
    "        messages.append(response)\n",
    "        response = openai.chat.completions.create(model=MODEL, messages=messages)\n",
    "\n",
    "    return response.choices[0].message.content\n"
   ]
  },
  {
   "cell_type": "code",
   "execution_count": null,
   "id": "545ca475",
   "metadata": {},
   "outputs": [],
   "source": [
    "# Gradio Chat Interface\n",
    "gr.ChatInterface(fn=chat, type=\"messages\", title=\"Web Dev Company Assistant\").launch()"
   ]
  }
 ],
 "metadata": {
  "kernelspec": {
   "display_name": "llms",
   "language": "python",
   "name": "python3"
  },
  "language_info": {
   "codemirror_mode": {
    "name": "ipython",
    "version": 3
   },
   "file_extension": ".py",
   "mimetype": "text/x-python",
   "name": "python",
   "nbconvert_exporter": "python",
   "pygments_lexer": "ipython3",
   "version": "3.11.13"
  }
 },
 "nbformat": 4,
 "nbformat_minor": 5
}
